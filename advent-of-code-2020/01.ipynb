{
 "metadata": {
  "language_info": {
   "codemirror_mode": {
    "name": "ipython",
    "version": 3
   },
   "file_extension": ".py",
   "mimetype": "text/x-python",
   "name": "python",
   "nbconvert_exporter": "python",
   "pygments_lexer": "ipython3",
   "version": "3.9.0-final"
  },
  "orig_nbformat": 2,
  "kernelspec": {
   "name": "python3",
   "display_name": "Python 3.9.0 64-bit",
   "metadata": {
    "interpreter": {
     "hash": "ac2eaa0ea0ebeafcc7822e65e46aa9d4f966f30b695406963e145ea4a91cd4fc"
    }
   }
  }
 },
 "nbformat": 4,
 "nbformat_minor": 2,
 "cells": [
  {
   "source": [
    "# Advent of Code: Day 01"
   ],
   "cell_type": "markdown",
   "metadata": {}
  },
  {
   "cell_type": "code",
   "execution_count": 1,
   "metadata": {},
   "outputs": [],
   "source": [
    "import functools, itertools\n",
    "import requests\n",
    "import pandas as pd, numpy as np"
   ]
  },
  {
   "source": [
    "## --- Day 1: Report Repair ---\n",
    "\n",
    "After saving Christmas five years in a row, you've decided to take a vacation at a nice resort on a tropical island. Surely, Christmas will go on without you.\n",
    "\n",
    "The tropical island has its own currency and is entirely cash-only. The gold coins used there have a little picture of a starfish; the locals just call them stars. None of the currency exchanges seem to have heard of them, but somehow, you'll need to find fifty of these coins by the time you arrive so you can pay the deposit on your room.\n",
    "\n",
    "To save your vacation, you need to get all fifty stars by December 25th.\n",
    "\n",
    "Collect stars by solving puzzles. Two puzzles will be made available on each day in the Advent calendar; the second puzzle is unlocked when you complete the first. Each puzzle grants one star. Good luck!\n",
    "\n",
    "Before you leave, the Elves in accounting just need you to fix your expense report (your puzzle input); apparently, something isn't quite adding up.\n",
    "\n",
    "Specifically, they need you to find the two entries that sum to 2020 and then multiply those two numbers together.\n",
    "\n",
    "For example, suppose your expense report contained the following:\n",
    "\n",
    "1721\n",
    "979\n",
    "366\n",
    "299\n",
    "675\n",
    "1456\n",
    "\n",
    "In this list, the two entries that sum to 2020 are 1721 and 299. Multiplying them together produces 1721 * 299 = 514579, so the correct answer is 514579.\n",
    "\n",
    "Of course, your expense report is much larger. Find the two entries that sum to 2020; what do you get if you multiply them together?"
   ],
   "cell_type": "markdown",
   "metadata": {}
  },
  {
   "cell_type": "code",
   "execution_count": 2,
   "metadata": {},
   "outputs": [],
   "source": [
    "FILE_OF_THE_DAY = \"./inputs/01.csv\"\n"
   ]
  },
  {
   "cell_type": "code",
   "execution_count": 3,
   "metadata": {},
   "outputs": [
    {
     "output_type": "execute_result",
     "data": {
      "text/plain": [
       "          expenses\n",
       "count   200.000000\n",
       "mean   1595.290000\n",
       "std     309.611275\n",
       "min      74.000000\n",
       "25%    1448.000000\n",
       "50%    1658.500000\n",
       "75%    1798.750000\n",
       "max    2007.000000"
      ],
      "text/html": "<div>\n<style scoped>\n    .dataframe tbody tr th:only-of-type {\n        vertical-align: middle;\n    }\n\n    .dataframe tbody tr th {\n        vertical-align: top;\n    }\n\n    .dataframe thead th {\n        text-align: right;\n    }\n</style>\n<table border=\"1\" class=\"dataframe\">\n  <thead>\n    <tr style=\"text-align: right;\">\n      <th></th>\n      <th>expenses</th>\n    </tr>\n  </thead>\n  <tbody>\n    <tr>\n      <th>count</th>\n      <td>200.000000</td>\n    </tr>\n    <tr>\n      <th>mean</th>\n      <td>1595.290000</td>\n    </tr>\n    <tr>\n      <th>std</th>\n      <td>309.611275</td>\n    </tr>\n    <tr>\n      <th>min</th>\n      <td>74.000000</td>\n    </tr>\n    <tr>\n      <th>25%</th>\n      <td>1448.000000</td>\n    </tr>\n    <tr>\n      <th>50%</th>\n      <td>1658.500000</td>\n    </tr>\n    <tr>\n      <th>75%</th>\n      <td>1798.750000</td>\n    </tr>\n    <tr>\n      <th>max</th>\n      <td>2007.000000</td>\n    </tr>\n  </tbody>\n</table>\n</div>"
     },
     "metadata": {},
     "execution_count": 3
    }
   ],
   "source": [
    "dt = pd.read_csv(FILE_OF_THE_DAY, names=[\"expenses\"])\n",
    "dt.describe()"
   ]
  },
  {
   "cell_type": "code",
   "execution_count": 4,
   "metadata": {},
   "outputs": [],
   "source": [
    "def product(*values):\n",
    "    if len(values) == 0:\n",
    "        return 1\n",
    "    if len(values) == 1:\n",
    "        return values[0]\n",
    "    return values[0] * product(*values[1:])\n",
    "\n",
    "def report_2020(index, *values):\n",
    "    if sum(values) == 2020:\n",
    "        print(f\"Found values at index {index}: {values}\")\n",
    "        print(f\"    - Combined product is: {product(*values)}\")\n",
    "        return True\n",
    "    return False"
   ]
  },
  {
   "cell_type": "code",
   "execution_count": 5,
   "metadata": {},
   "outputs": [
    {
     "output_type": "stream",
     "name": "stdout",
     "text": [
      "Found values at index [26, 34]: (75, 1945)\n    - Combined product is: 145875\n"
     ]
    }
   ],
   "source": [
    "for i,x in enumerate(dt[\"expenses\"]):\n",
    "    for j,y in enumerate(dt[\"expenses\"]):\n",
    "        if report_2020([i,j], x, y):\n",
    "            break\n",
    "    else:\n",
    "        continue\n",
    "    break"
   ]
  },
  {
   "source": [
    "## --- Part Two ---\n",
    "\n",
    "The Elves in accounting are thankful for your help; one of them even offers you a starfish coin they had left over from a past vacation. They offer you a second one if you can find three numbers in your expense report that meet the same criteria.\n",
    "\n",
    "Using the above example again, the three entries that sum to 2020 are 979, 366, and 675. Multiplying them together produces the answer, 241861950.\n",
    "\n",
    "In your expense report, what is the product of the three entries that sum to 2020?\n"
   ],
   "cell_type": "markdown",
   "metadata": {}
  },
  {
   "cell_type": "code",
   "execution_count": 6,
   "metadata": {},
   "outputs": [
    {
     "output_type": "stream",
     "name": "stdout",
     "text": [
      "Found values at index [73, 105, 168]: (74, 1052, 894)\n    - Combined product is: 69596112\n"
     ]
    }
   ],
   "source": [
    "for i,x in enumerate(dt[\"expenses\"]):\n",
    "    for j,y in enumerate(dt[\"expenses\"]):\n",
    "        for k,z in enumerate(dt[\"expenses\"]):\n",
    "            if report_2020([i,j,k], x, y,z):\n",
    "                break\n",
    "        else:\n",
    "            continue\n",
    "        break\n",
    "    else:\n",
    "        continue\n",
    "    break"
   ]
  },
  {
   "source": [
    "## -- Showerthought: generators are more efficient --"
   ],
   "cell_type": "markdown",
   "metadata": {}
  },
  {
   "cell_type": "code",
   "execution_count": 7,
   "metadata": {},
   "outputs": [],
   "source": [
    "def smart_report(values, nb_count):\n",
    "    if nb_count <= 0: raise ValueError\n",
    "    if nb_count == 1:\n",
    "        yield from (([i], [v], v, v) for i, v in enumerate(values))\n",
    "        return\n",
    "    for i, v in enumerate(values):\n",
    "        yield from (\n",
    "            ([i, *idx], [v, *vals], s + v, p * v) \n",
    "            for idx, vals, s, p in smart_report(values[i:], nb_count-1)\n",
    "        )\n"
   ]
  },
  {
   "cell_type": "code",
   "execution_count": 8,
   "metadata": {},
   "outputs": [
    {
     "output_type": "stream",
     "name": "stdout",
     "text": [
      "=> [75, 1945] = 145875\n",
      "=> [74, 1052, 894] = 69596112\n"
     ]
    }
   ],
   "source": [
    "with open(FILE_OF_THE_DAY) as f:\n",
    "    values = [int(l) for l in f.readlines()]\n",
    "\n",
    "for idx, vals, s, p in smart_report(values, 2):\n",
    "    if s == 2020:\n",
    "        print(f\"=> {vals} = {p}\")\n",
    "        break\n",
    "\n",
    "for idx, vals, s, p in smart_report(values, 3):\n",
    "    if s == 2020:\n",
    "        print(f\"=> {vals} = {p}\")\n",
    "        break\n",
    "\n"
   ]
  },
  {
   "cell_type": "code",
   "execution_count": null,
   "metadata": {},
   "outputs": [],
   "source": []
  }
 ]
}